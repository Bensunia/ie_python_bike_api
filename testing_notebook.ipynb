{
 "cells": [
  {
   "cell_type": "code",
   "execution_count": 1,
   "metadata": {},
   "outputs": [],
   "source": [
    "import pandas as pd\n",
    "from pandas.tseries.holiday import USFederalHolidayCalendar as calendar\n",
    "US_HOLIDAYS = calendar().holidays()"
   ]
  },
  {
   "cell_type": "code",
   "execution_count": 2,
   "metadata": {},
   "outputs": [],
   "source": [
    "from ie_bike_model.model import train_and_persist, predict, train_ridge, train_xgboost, feature_engineering, preprocess, dummify, score, split_train_test, postprocess\n",
    "from ie_bike_model.util import read_data, get_season, get_model_path"
   ]
  },
  {
   "cell_type": "code",
   "execution_count": 3,
   "metadata": {},
   "outputs": [],
   "source": [
    "import pandas as pd\n",
    "import re"
   ]
  },
  {
   "cell_type": "code",
   "execution_count": 4,
   "metadata": {},
   "outputs": [
    {
     "data": {
      "text/plain": [
       "'/Users/ekaterina/anaconda3/lib/python3.7/site-packages/ie_bike_model/ridge.pkl'"
      ]
     },
     "execution_count": 4,
     "metadata": {},
     "output_type": "execute_result"
    }
   ],
   "source": [
    "get_model_path(model = 'ridge')"
   ]
  },
  {
   "cell_type": "code",
   "execution_count": 5,
   "metadata": {},
   "outputs": [],
   "source": [
    "hour = read_data()"
   ]
  },
  {
   "cell_type": "code",
   "execution_count": 6,
   "metadata": {},
   "outputs": [],
   "source": [
    "import joblib"
   ]
  },
  {
   "cell_type": "code",
   "execution_count": 7,
   "metadata": {},
   "outputs": [],
   "source": [
    "def get_train_persist():\n",
    "    #model = str(request.args.get(\"model\", \"xgboost\"))\n",
    "    train_and_persist(model = 'xgboost')\n",
    "    model_clf = joblib.load(model_path)\n",
    "    return print(\"R-squared for Train: %.2f\" % model_clf.score(hour_d_train_x, hour_d_train_y), '\\n', \"R-squared for Test: %.2f\" % model_clf.score(hour_d_test_x, hour_d_test_y))"
   ]
  },
  {
   "cell_type": "code",
   "execution_count": 7,
   "metadata": {},
   "outputs": [
    {
     "name": "stdout",
     "output_type": "stream",
     "text": [
      "R-squared for Train: 0.80 \n",
      " R-squared for Test: 0.75\n"
     ]
    }
   ],
   "source": [
    "get_train_persist()"
   ]
  },
  {
   "cell_type": "code",
   "execution_count": 9,
   "metadata": {},
   "outputs": [],
   "source": [
    "import datetime as dt"
   ]
  },
  {
   "cell_type": "code",
   "execution_count": 11,
   "metadata": {},
   "outputs": [
    {
     "data": {
      "text/plain": [
       "539"
      ]
     },
     "execution_count": 11,
     "metadata": {},
     "output_type": "execute_result"
    }
   ],
   "source": [
    "predict({\n",
    "     \"date\": dt.datetime(2012, 10, 1, 18, 0, 0),\n",
    "    \"weathersit\": 1,\n",
    "    \"temperature_C\": 15,\n",
    "    \"feeling_temperature_C\": 14,\n",
    "    \"humidity\": 20,\n",
    "    \"windspeed\": 5,\n",
    " }, model='ridge')"
   ]
  },
  {
   "cell_type": "code",
   "execution_count": 10,
   "metadata": {},
   "outputs": [],
   "source": [
    "def split_train_test(hour):\n",
    "    # Avoid modifying the original dataset at the cost of RAM\n",
    "    hour = hour.copy()\n",
    "\n",
    "    # Split into train and test\n",
    "    hour_train, hour_test = hour.iloc[0:15211], hour.iloc[15212:17379]\n",
    "    train = hour_train.drop(columns=[\"dteday\", \"casual\", \"atemp\", \"registered\"])\n",
    "    test = hour_test.drop(columns=[\"dteday\", \"casual\", \"registered\", \"atemp\"])\n",
    "\n",
    "    # seperate the independent and target variable on testing data\n",
    "    train_X = train.drop(columns=[\"cnt\"], axis=1)\n",
    "    train_y = train[\"cnt\"]\n",
    "\n",
    "    # seperate the independent and target variable on test data\n",
    "    test_X = test.drop(columns=[\"cnt\"], axis=1)\n",
    "    test_y = test[\"cnt\"]\n",
    "\n",
    "    return train_X, test_X, train_y, test_y\n"
   ]
  },
  {
   "cell_type": "code",
   "execution_count": 5,
   "metadata": {},
   "outputs": [],
   "source": [
    "hour = read_data()\n",
    "hour = preprocess(hour)\n",
    "hour = dummify(hour)\n",
    "hour = postprocess(hour)"
   ]
  },
  {
   "cell_type": "code",
   "execution_count": 6,
   "metadata": {},
   "outputs": [],
   "source": [
    "_, r2_train, r2_test = train_ridge(hour)"
   ]
  },
  {
   "cell_type": "code",
   "execution_count": 8,
   "metadata": {},
   "outputs": [],
   "source": [
    "def get_train_persist():\n",
    "    r2_train, r2_test = train_and_persist(model = 'xgboost')\n",
    "\n",
    "    return print(\"R-squared for Train: %.2f\" % r2_train,\n",
    "    '\\n', \"R-squared for Test: %.2f\" % r2_test)"
   ]
  },
  {
   "cell_type": "code",
   "execution_count": 1,
   "metadata": {},
   "outputs": [
    {
     "ename": "SyntaxError",
     "evalue": "invalid syntax (<ipython-input-1-2160143f0211>, line 8)",
     "output_type": "error",
     "traceback": [
      "\u001b[0;36m  File \u001b[0;32m\"<ipython-input-1-2160143f0211>\"\u001b[0;36m, line \u001b[0;32m8\u001b[0m\n\u001b[0;31m    if model = 'xgboost':\u001b[0m\n\u001b[0m             ^\u001b[0m\n\u001b[0;31mSyntaxError\u001b[0m\u001b[0;31m:\u001b[0m invalid syntax\n"
     ]
    }
   ],
   "source": [
    "def train_and_persist(model_dir=None, hour_path=None, model = 'xgboost'):\n",
    "    hour = read_data(hour_path)\n",
    "    hour = preprocess(hour)\n",
    "    hour = dummify(hour)\n",
    "    hour = postprocess(hour)\n",
    "\n",
    "    # TODO: Implement other models?\n",
    "    if model = 'xgboost':\n",
    "        model = train_xgboost(hour)\n",
    "\n",
    "        model_path = get_model_path(model_dir)\n",
    "\n",
    "        joblib.dump(model, model_path)\n",
    "\n",
    "    else:\n",
    "        model = train_ridge(hour)\n",
    "\n",
    "        model_path = get_model_path(model_dir)\n",
    "\n",
    "        joblib.dump(model, model_path)\n",
    "        \n",
    "\n"
   ]
  },
  {
   "cell_type": "code",
   "execution_count": 12,
   "metadata": {},
   "outputs": [],
   "source": [
    "def get_train_persist():\n",
    "    r2_train, r2_test = score(model = 'ridge')\n",
    "\n",
    "    #model_path = get_model_path(model = model)\n",
    "    #model_clf = joblib.load(model_path)\n",
    "\n",
    "    return print(\"R-squared for Train: %.2f\" % r2_train,'\\n', \"R-squared for Test: %.2f\" % r2_test)\n"
   ]
  },
  {
   "cell_type": "code",
   "execution_count": 13,
   "metadata": {},
   "outputs": [
    {
     "name": "stdout",
     "output_type": "stream",
     "text": [
      "R-squared for Train: 0.80 \n",
      " R-squared for Test: 0.75\n"
     ]
    }
   ],
   "source": [
    "get_train_persist()"
   ]
  },
  {
   "cell_type": "code",
   "execution_count": null,
   "metadata": {},
   "outputs": [],
   "source": []
  }
 ],
 "metadata": {
  "kernelspec": {
   "display_name": "Python 3",
   "language": "python",
   "name": "python3"
  },
  "language_info": {
   "codemirror_mode": {
    "name": "ipython",
    "version": 3
   },
   "file_extension": ".py",
   "mimetype": "text/x-python",
   "name": "python",
   "nbconvert_exporter": "python",
   "pygments_lexer": "ipython3",
   "version": "3.7.4"
  }
 },
 "nbformat": 4,
 "nbformat_minor": 4
}
