{
 "cells": [
  {
   "cell_type": "code",
   "execution_count": 1,
   "metadata": {},
   "outputs": [],
   "source": [
    "from ie_bike_model.model import train_and_persist, predict\n",
    "from ie_bike_model.util import get_model_path"
   ]
  },
  {
   "cell_type": "code",
   "execution_count": 3,
   "metadata": {},
   "outputs": [
    {
     "name": "stderr",
     "output_type": "stream",
     "text": [
      "/Users/ekaterina/anaconda3/lib/python3.7/site-packages/xgboost/core.py:587: FutureWarning: Series.base is deprecated and will be removed in a future version\n",
      "  if getattr(data, 'base', None) is not None and \\\n",
      "/Users/ekaterina/anaconda3/lib/python3.7/site-packages/xgboost/core.py:588: FutureWarning: Series.base is deprecated and will be removed in a future version\n",
      "  data.base is not None and isinstance(data, np.ndarray) \\\n"
     ]
    }
   ],
   "source": [
    "train_and_persist()"
   ]
  },
  {
   "cell_type": "code",
   "execution_count": 18,
   "metadata": {},
   "outputs": [
    {
     "data": {
      "text/plain": [
       "'/Users/ekaterina/anaconda3/lib/python3.7/site-packages/ie_bike_model/ridge.pkl'"
      ]
     },
     "execution_count": 18,
     "metadata": {},
     "output_type": "execute_result"
    }
   ],
   "source": [
    "get_model_path(model = 'ridge')"
   ]
  },
  {
   "cell_type": "code",
   "execution_count": 4,
   "metadata": {},
   "outputs": [],
   "source": [
    "import datetime as dt"
   ]
  },
  {
   "cell_type": "code",
   "execution_count": 8,
   "metadata": {},
   "outputs": [
    {
     "data": {
      "text/plain": [
       "4"
      ]
     },
     "execution_count": 8,
     "metadata": {},
     "output_type": "execute_result"
    }
   ],
   "source": [
    "predict({\n",
    "     \"date\": dt.datetime(2011, 1, 1, 0, 0, 0),\n",
    "    \"weathersit\": 1,\n",
    "    \"temperature_C\": 9.84,\n",
    "    \"feeling_temperature_C\": 14.395,\n",
    "    \"humidity\": 81.0,\n",
    "    \"windspeed\": 0.0,\n",
    " }, model = 'ridge')"
   ]
  },
  {
   "cell_type": "code",
   "execution_count": 1,
   "metadata": {},
   "outputs": [
    {
     "ename": "SyntaxError",
     "evalue": "invalid syntax (<ipython-input-1-2160143f0211>, line 8)",
     "output_type": "error",
     "traceback": [
      "\u001b[0;36m  File \u001b[0;32m\"<ipython-input-1-2160143f0211>\"\u001b[0;36m, line \u001b[0;32m8\u001b[0m\n\u001b[0;31m    if model = 'xgboost':\u001b[0m\n\u001b[0m             ^\u001b[0m\n\u001b[0;31mSyntaxError\u001b[0m\u001b[0;31m:\u001b[0m invalid syntax\n"
     ]
    }
   ],
   "source": [
    "def train_and_persist(model_dir=None, hour_path=None, model = 'xgboost'):\n",
    "    hour = read_data(hour_path)\n",
    "    hour = preprocess(hour)\n",
    "    hour = dummify(hour)\n",
    "    hour = postprocess(hour)\n",
    "\n",
    "    # TODO: Implement other models?\n",
    "    if model = 'xgboost':\n",
    "        model = train_xgboost(hour)\n",
    "\n",
    "        model_path = get_model_path(model_dir)\n",
    "\n",
    "        joblib.dump(model, model_path)\n",
    "\n",
    "    else:\n",
    "        model = train_ridge(hour)\n",
    "\n",
    "        model_path = get_model_path(model_dir)\n",
    "\n",
    "        joblib.dump(model, model_path)\n",
    "        \n",
    "\n"
   ]
  },
  {
   "cell_type": "code",
   "execution_count": 28,
   "metadata": {},
   "outputs": [],
   "source": [
    "socks = [1,2,1,3,2,4,4,5]\n",
    "\n",
    "dictionar = dict((i,socks.count(i)) for i in socks)"
   ]
  },
  {
   "cell_type": "code",
   "execution_count": 30,
   "metadata": {},
   "outputs": [
    {
     "data": {
      "text/plain": [
       "{1: 2, 2: 2, 3: 1, 4: 2, 5: 1}"
      ]
     },
     "execution_count": 30,
     "metadata": {},
     "output_type": "execute_result"
    }
   ],
   "source": [
    " dictionar"
   ]
  },
  {
   "cell_type": "code",
   "execution_count": 41,
   "metadata": {},
   "outputs": [
    {
     "name": "stdout",
     "output_type": "stream",
     "text": [
      "3\n"
     ]
    }
   ],
   "source": [
    "summ = 0\n",
    "for values in dictionar.values():\n",
    "    summ += values//2\n",
    "print(summ)"
   ]
  },
  {
   "cell_type": "code",
   "execution_count": null,
   "metadata": {},
   "outputs": [],
   "source": []
  }
 ],
 "metadata": {
  "kernelspec": {
   "display_name": "Python 3",
   "language": "python",
   "name": "python3"
  },
  "language_info": {
   "codemirror_mode": {
    "name": "ipython",
    "version": 3
   },
   "file_extension": ".py",
   "mimetype": "text/x-python",
   "name": "python",
   "nbconvert_exporter": "python",
   "pygments_lexer": "ipython3",
   "version": "3.7.4"
  }
 },
 "nbformat": 4,
 "nbformat_minor": 4
}
